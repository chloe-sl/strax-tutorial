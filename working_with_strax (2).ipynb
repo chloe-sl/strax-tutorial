{
 "cells": [
  {
   "cell_type": "markdown",
   "metadata": {},
   "source": [
    "## Working with Strax\n",
    "\n",
    "A tutorial by Chloe Liebenthal (Rice University Astroparticle Group), November 2020\n",
    "\n",
    "### Introduction\n",
    "\n",
    "This tutorial covers the **terminology we use** in our search for dark matter, the basics of **how our experiment operates**, an **introduction to the straxen software**, and some **sample plots** with tutorials on how they were created. By the end of this tutorial, you'll learn how to make your own plots as well. "
   ]
  },
  {
   "cell_type": "markdown",
   "metadata": {},
   "source": [
    "### What is dark matter?\n",
    "\n",
    "Dark matter is a form of matter that makes up about 85% of the universe. However, because it doesn't interact with electromagnetic radiation like most matter does, it is very difficult to detect. We know it's out there because of various astrophysical calculations; if we assume that dark matter is out there in the universe, affecting normal particles via gravity, that would account for a lot of problems we have calculating things like the rate of expansion of the universe.\n",
    "\n",
    "A common theory about dark matter is that it exists in the form of WIMPs, or weakly-interacting massive particles. WIMPs would have a large mass, compared to most particles, and they would only be able to interact with other particles via gravity and weak nuclear force. The XENON collaboration uses a time projection chamber to search for WIMPs."
   ]
  },
  {
   "cell_type": "markdown",
   "metadata": {},
   "source": [
    "### What is a time projection chamber, and how does it search for dark matter?\n",
    "\n",
    "![Diagram of a TPC](https://upload.wikimedia.org/wikipedia/commons/d/d2/2phaseTPC_b.jpg)\n",
    "\n",
    "\n",
    "A time projection chamber is a type of particle detector. It consists of a vat of liquid or gas, with lots of detectors (called photomultiplier tubes, or PMTs) arranged on either side. In our XENON experiments, we use liquid xenon inside the detector with a gas layer on top. There is also an electric field throughout the whole detector. When a particle floating by interacts with the particles in the xenon, it causes a flash of light called **scintillation**, which releases particles called photons. A WIMP would be able to cause such a particle interaction because of the gravitational pull it would exert on the xenon particles. The PMTs are able to see these photons and record them. We call this the **S1 signal**.\n",
    "\n",
    "When a particle interaction occurs, it knocks some electrons loose in a process called **ionization**, and the electric field accelerates them and makes them float up towards the top of the detector. Accelerating the electrons also causes another scintillation, which the PMTs also record. This is the **S2 signal**.\n",
    "\n",
    "The reason why it's useful to record both S1 and S2 signals is that it enables us to find out how close to the top or bottom of the detector the particle that interacted with the xenon was. For reference, we will refer to 'up and down' as the z-axis. When an electron is drifting in liquid xenon, we know what its velocity will be. So if we have both the S1 and the S2, we can use the time delay between them to figure out how far down at the bottom the electron was when the interaction event took place. \n",
    "\n",
    "We can also figure out where the interaction was with reference to the x-y plane. Because there will be multiple PMTs that pick up photons from the scintillation, we can compare how many photons each one saw to determine which PMT the interaction was underneath.\n",
    "\n",
    "Knowing where an event took place is necessary because it allows for a **fiducial cross section** of the place in the detector where the event happened. What that means is that we can determine what conditions at the detector were like in that place when the interaction happened, including how many background events (ie interactions with particles that aren't relevant to our experiment) take place there. This way, we can figure out if the event is background noise or something we should look into further."
   ]
  },
  {
   "cell_type": "markdown",
   "metadata": {},
   "source": [
    "## Working with Strax\n",
    "### What is strax?\n",
    "\n",
    "Strax is a python package used to analyze data from TPC (time projection chamber) dark matter detectors that use noble liquids. For analysis tools specific to the XENONnT detector, you can use the Straxen framework, which builds on Strax. A lot of how strax and straxen work involves dataframes, which are a way of storing data in the form of a table. Dataframes are created by plugins, which are algorithms that take sets of data and turn them into dataframes.\n",
    "\n",
    "If you'd like to install strax and straxen in your own Jupyter notebook, you can copy and run the following code:"
   ]
  },
  {
   "cell_type": "code",
   "execution_count": null,
   "metadata": {},
   "outputs": [],
   "source": [
    "!pip install -I strax==0.12.2 straxen==0.11.0 -q\n",
    "!pip install -I strax==0.12.2 straxen==0.11.0 -q --user"
   ]
  },
  {
   "cell_type": "markdown",
   "metadata": {},
   "source": [
    "We're going to need to import those modules now that we've installed them to make them available. To import a module into python, you just need to write 'import (the name of the module)'. If you want to change the module's name, you can write 'import (the name of the module) as (what you're renaming the module to)'.\n",
    "\n",
    "pandas is a module that's very useful for working with dataframes. We're going to import that as well, and rename it 'pd' because it's quicker to type."
   ]
  },
  {
   "cell_type": "code",
   "execution_count": 5,
   "metadata": {},
   "outputs": [],
   "source": [
    "import straxen\n",
    "import strax\n",
    "import pandas as pd"
   ]
  },
  {
   "cell_type": "markdown",
   "metadata": {},
   "source": [
    "First, we'll activate the XENON1T context. This means that we're telling the strax software to specifically look at data and information from XENON1T. A strax context provides information on how to process data, such as what plugins to use and how to read the data."
   ]
  },
  {
   "cell_type": "code",
   "execution_count": 7,
   "metadata": {},
   "outputs": [],
   "source": [
    "st = straxen.contexts.xenon1t_dali()"
   ]
  },
  {
   "cell_type": "markdown",
   "metadata": {},
   "source": [
    "Let's start out by making a plot that compares the respective areas of S1s and S2s. Comparing the areas is useful because it allows us to distinguish two different types of interactions- **electronic recoils** and **nuclear recoils**. \n",
    "\n",
    "An electronic recoil occurs when the particle interaction affects a xenon atom's electrons, whereas a nuclear recoil occurs when the particle interaction affects a xenon atom's nucleus. We can figure out how much energy was transferred during the interaction based on how big the S1s and S2s are. Since electronic recoils are expected to create a bigger S2 signal than a nuclear recoil, we can use the ratio of S2/S1 to distinguish between the two types of recoils. Electronic recoils are responsible for a lot of background noise in the detector, so being able to filter a lot of them out from nuclear recoils is really helpful.\n",
    "\n",
    "Also, rather than plain data about the area of S1s and S2s, strax uses various techniques to clean up the data, resulting in 'corrected S1s' and 'corrected S2s'.\n",
    "\n",
    "To start making our new cS2/cS1 plot, we're going to have to figure out what data type to load. A data type specifies what sorts of information is stored in a dataframe. We're looking for a data type that will give us information about cS1s and cS2s.\n",
    "\n",
    "Fortunately, there is a useful search function we can use:"
   ]
  },
  {
   "cell_type": "code",
   "execution_count": 13,
   "metadata": {},
   "outputs": [
    {
     "name": "stdout",
     "output_type": "stream",
     "text": [
      "cs1 is part of corrected_areas (provided by CorrectedAreas)\n",
      "cs1 is part of event_info (provided by EventInfo)\n"
     ]
    }
   ],
   "source": [
    "st.search_field('cs1')"
   ]
  },
  {
   "cell_type": "markdown",
   "metadata": {},
   "source": [
    "It looks like there are two possible data types for us to look at to find out to find our cS1s and cS2s. Each one is provided by a different plugin- CorrectedAreas or EventInfo. Let's have a look at what each data each plugin can provide us with."
   ]
  },
  {
   "cell_type": "code",
   "execution_count": 18,
   "metadata": {},
   "outputs": [
    {
     "data": {
      "text/html": [
       "<div>\n",
       "<style scoped>\n",
       "    .dataframe tbody tr th:only-of-type {\n",
       "        vertical-align: middle;\n",
       "    }\n",
       "\n",
       "    .dataframe tbody tr th {\n",
       "        vertical-align: top;\n",
       "    }\n",
       "\n",
       "    .dataframe thead th {\n",
       "        text-align: right;\n",
       "    }\n",
       "</style>\n",
       "<table border=\"1\" class=\"dataframe\">\n",
       "  <thead>\n",
       "    <tr style=\"text-align: right;\">\n",
       "      <th></th>\n",
       "      <th>Field name</th>\n",
       "      <th>Data type</th>\n",
       "      <th>Comment</th>\n",
       "    </tr>\n",
       "  </thead>\n",
       "  <tbody>\n",
       "    <tr>\n",
       "      <th>0</th>\n",
       "      <td>cs1</td>\n",
       "      <td>float32</td>\n",
       "      <td>Corrected S1 area [PE]</td>\n",
       "    </tr>\n",
       "    <tr>\n",
       "      <th>1</th>\n",
       "      <td>cs2</td>\n",
       "      <td>float32</td>\n",
       "      <td>Corrected S2 area [PE]</td>\n",
       "    </tr>\n",
       "    <tr>\n",
       "      <th>2</th>\n",
       "      <td>alt_cs1</td>\n",
       "      <td>float32</td>\n",
       "      <td>Corrected area of the alternate S1 [PE]</td>\n",
       "    </tr>\n",
       "    <tr>\n",
       "      <th>3</th>\n",
       "      <td>alt_cs2</td>\n",
       "      <td>float32</td>\n",
       "      <td>Corrected area of the alternate S2 [PE]</td>\n",
       "    </tr>\n",
       "    <tr>\n",
       "      <th>4</th>\n",
       "      <td>time</td>\n",
       "      <td>int64</td>\n",
       "      <td>Start time since unix epoch [ns]</td>\n",
       "    </tr>\n",
       "    <tr>\n",
       "      <th>5</th>\n",
       "      <td>endtime</td>\n",
       "      <td>int64</td>\n",
       "      <td>Exclusive end time since unix epoch [ns]</td>\n",
       "    </tr>\n",
       "  </tbody>\n",
       "</table>\n",
       "</div>"
      ],
      "text/plain": [
       "  Field name Data type                                   Comment\n",
       "0        cs1   float32                    Corrected S1 area [PE]\n",
       "1        cs2   float32                    Corrected S2 area [PE]\n",
       "2    alt_cs1   float32   Corrected area of the alternate S1 [PE]\n",
       "3    alt_cs2   float32   Corrected area of the alternate S2 [PE]\n",
       "4       time     int64          Start time since unix epoch [ns]\n",
       "5    endtime     int64  Exclusive end time since unix epoch [ns]"
      ]
     },
     "execution_count": 18,
     "metadata": {},
     "output_type": "execute_result"
    }
   ],
   "source": [
    "st.data_info('corrected_areas')"
   ]
  },
  {
   "cell_type": "code",
   "execution_count": 19,
   "metadata": {},
   "outputs": [
    {
     "data": {
      "text/html": [
       "<div>\n",
       "<style scoped>\n",
       "    .dataframe tbody tr th:only-of-type {\n",
       "        vertical-align: middle;\n",
       "    }\n",
       "\n",
       "    .dataframe tbody tr th {\n",
       "        vertical-align: top;\n",
       "    }\n",
       "\n",
       "    .dataframe thead th {\n",
       "        text-align: right;\n",
       "    }\n",
       "</style>\n",
       "<table border=\"1\" class=\"dataframe\">\n",
       "  <thead>\n",
       "    <tr style=\"text-align: right;\">\n",
       "      <th></th>\n",
       "      <th>Field name</th>\n",
       "      <th>Data type</th>\n",
       "      <th>Comment</th>\n",
       "    </tr>\n",
       "  </thead>\n",
       "  <tbody>\n",
       "    <tr>\n",
       "      <th>0</th>\n",
       "      <td>cs1</td>\n",
       "      <td>float32</td>\n",
       "      <td>Corrected S1 area [PE]</td>\n",
       "    </tr>\n",
       "    <tr>\n",
       "      <th>1</th>\n",
       "      <td>cs2</td>\n",
       "      <td>float32</td>\n",
       "      <td>Corrected S2 area [PE]</td>\n",
       "    </tr>\n",
       "    <tr>\n",
       "      <th>2</th>\n",
       "      <td>alt_cs1</td>\n",
       "      <td>float32</td>\n",
       "      <td>Corrected area of the alternate S1 [PE]</td>\n",
       "    </tr>\n",
       "    <tr>\n",
       "      <th>3</th>\n",
       "      <td>alt_cs2</td>\n",
       "      <td>float32</td>\n",
       "      <td>Corrected area of the alternate S2 [PE]</td>\n",
       "    </tr>\n",
       "    <tr>\n",
       "      <th>4</th>\n",
       "      <td>time</td>\n",
       "      <td>int64</td>\n",
       "      <td>Start time since unix epoch [ns]</td>\n",
       "    </tr>\n",
       "    <tr>\n",
       "      <th>...</th>\n",
       "      <td>...</td>\n",
       "      <td>...</td>\n",
       "      <td>...</td>\n",
       "    </tr>\n",
       "    <tr>\n",
       "      <th>59</th>\n",
       "      <td>z_naive</td>\n",
       "      <td>float32</td>\n",
       "      <td>Interaction z-position using mean drift veloci...</td>\n",
       "    </tr>\n",
       "    <tr>\n",
       "      <th>60</th>\n",
       "      <td>r_naive</td>\n",
       "      <td>float32</td>\n",
       "      <td>Interaction r-position using observed S2 posit...</td>\n",
       "    </tr>\n",
       "    <tr>\n",
       "      <th>61</th>\n",
       "      <td>r_field_distortion_correction</td>\n",
       "      <td>float32</td>\n",
       "      <td>Correction added to r_naive for field distorti...</td>\n",
       "    </tr>\n",
       "    <tr>\n",
       "      <th>62</th>\n",
       "      <td>theta</td>\n",
       "      <td>float32</td>\n",
       "      <td>Interaction angular position (radians)</td>\n",
       "    </tr>\n",
       "    <tr>\n",
       "      <th>63</th>\n",
       "      <td>event_number</td>\n",
       "      <td>int64</td>\n",
       "      <td>Event number in this dataset</td>\n",
       "    </tr>\n",
       "  </tbody>\n",
       "</table>\n",
       "<p>64 rows × 3 columns</p>\n",
       "</div>"
      ],
      "text/plain": [
       "                       Field name Data type  \\\n",
       "0                             cs1   float32   \n",
       "1                             cs2   float32   \n",
       "2                         alt_cs1   float32   \n",
       "3                         alt_cs2   float32   \n",
       "4                            time     int64   \n",
       "..                            ...       ...   \n",
       "59                        z_naive   float32   \n",
       "60                        r_naive   float32   \n",
       "61  r_field_distortion_correction   float32   \n",
       "62                          theta   float32   \n",
       "63                   event_number     int64   \n",
       "\n",
       "                                              Comment  \n",
       "0                              Corrected S1 area [PE]  \n",
       "1                              Corrected S2 area [PE]  \n",
       "2             Corrected area of the alternate S1 [PE]  \n",
       "3             Corrected area of the alternate S2 [PE]  \n",
       "4                    Start time since unix epoch [ns]  \n",
       "..                                                ...  \n",
       "59  Interaction z-position using mean drift veloci...  \n",
       "60  Interaction r-position using observed S2 posit...  \n",
       "61  Correction added to r_naive for field distorti...  \n",
       "62             Interaction angular position (radians)  \n",
       "63                       Event number in this dataset  \n",
       "\n",
       "[64 rows x 3 columns]"
      ]
     },
     "execution_count": 19,
     "metadata": {},
     "output_type": "execute_result"
    }
   ],
   "source": [
    "st.data_info('event_info')"
   ]
  },
  {
   "cell_type": "markdown",
   "metadata": {},
   "source": [
    "As we can see, event_info has a lot more data than corrected_area (64 rows of data compared to just 5!), so that's the plugin we're going to use. Next, we need to select a *run*, which is a term we use for a certain subset of data taken in a length of time. Let's look at which runs are available."
   ]
  },
  {
   "cell_type": "code",
   "execution_count": 20,
   "metadata": {},
   "outputs": [
    {
     "name": "stderr",
     "output_type": "stream",
     "text": [
      "Checking data availability: 100%|██████████| 5/5 [01:36<00:00, 19.40s/it]\n"
     ]
    },
    {
     "data": {
      "text/html": [
       "<div>\n",
       "<style scoped>\n",
       "    .dataframe tbody tr th:only-of-type {\n",
       "        vertical-align: middle;\n",
       "    }\n",
       "\n",
       "    .dataframe tbody tr th {\n",
       "        vertical-align: top;\n",
       "    }\n",
       "\n",
       "    .dataframe thead th {\n",
       "        text-align: right;\n",
       "    }\n",
       "</style>\n",
       "<table border=\"1\" class=\"dataframe\">\n",
       "  <thead>\n",
       "    <tr style=\"text-align: right;\">\n",
       "      <th></th>\n",
       "      <th>name</th>\n",
       "      <th>number</th>\n",
       "      <th>start</th>\n",
       "      <th>reader.ini.name</th>\n",
       "      <th>trigger.events_built</th>\n",
       "      <th>end</th>\n",
       "      <th>tags</th>\n",
       "      <th>mode</th>\n",
       "      <th>livetime</th>\n",
       "      <th>peaklets_available</th>\n",
       "      <th>raw_records_available</th>\n",
       "      <th>records_available</th>\n",
       "      <th>event_info_available</th>\n",
       "      <th>events_available</th>\n",
       "    </tr>\n",
       "  </thead>\n",
       "  <tbody>\n",
       "    <tr>\n",
       "      <th>0</th>\n",
       "      <td>170204_1410</td>\n",
       "      <td>6786</td>\n",
       "      <td>2017-02-04 14:10:08+00:00</td>\n",
       "      <td>background_stable</td>\n",
       "      <td>19574</td>\n",
       "      <td>2017-02-04 15:10:13+00:00</td>\n",
       "      <td>blinded,_sciencerun1_candidate,_sciencerun1</td>\n",
       "      <td>background_stable</td>\n",
       "      <td>0 days 01:00:05</td>\n",
       "      <td>True</td>\n",
       "      <td>True</td>\n",
       "      <td>True</td>\n",
       "      <td>True</td>\n",
       "      <td>True</td>\n",
       "    </tr>\n",
       "    <tr>\n",
       "      <th>1</th>\n",
       "      <td>170204_1510</td>\n",
       "      <td>6787</td>\n",
       "      <td>2017-02-04 15:10:28+00:00</td>\n",
       "      <td>background_stable</td>\n",
       "      <td>19634</td>\n",
       "      <td>2017-02-04 16:10:32+00:00</td>\n",
       "      <td>blinded,_sciencerun1_candidate,_sciencerun1</td>\n",
       "      <td>background_stable</td>\n",
       "      <td>0 days 01:00:04</td>\n",
       "      <td>True</td>\n",
       "      <td>True</td>\n",
       "      <td>True</td>\n",
       "      <td>True</td>\n",
       "      <td>True</td>\n",
       "    </tr>\n",
       "    <tr>\n",
       "      <th>2</th>\n",
       "      <td>170204_1610</td>\n",
       "      <td>6788</td>\n",
       "      <td>2017-02-04 16:10:39+00:00</td>\n",
       "      <td>background_stable</td>\n",
       "      <td>19400</td>\n",
       "      <td>2017-02-04 17:10:43+00:00</td>\n",
       "      <td>blinded,_sciencerun1_candidate,_sciencerun1</td>\n",
       "      <td>background_stable</td>\n",
       "      <td>0 days 01:00:04</td>\n",
       "      <td>True</td>\n",
       "      <td>True</td>\n",
       "      <td>True</td>\n",
       "      <td>True</td>\n",
       "      <td>True</td>\n",
       "    </tr>\n",
       "    <tr>\n",
       "      <th>3</th>\n",
       "      <td>170204_1710</td>\n",
       "      <td>6789</td>\n",
       "      <td>2017-02-04 17:10:51+00:00</td>\n",
       "      <td>background_stable</td>\n",
       "      <td>19415</td>\n",
       "      <td>2017-02-04 18:10:54+00:00</td>\n",
       "      <td>blinded,_sciencerun1_candidate,_sciencerun1</td>\n",
       "      <td>background_stable</td>\n",
       "      <td>0 days 01:00:03</td>\n",
       "      <td>True</td>\n",
       "      <td>True</td>\n",
       "      <td>True</td>\n",
       "      <td>True</td>\n",
       "      <td>True</td>\n",
       "    </tr>\n",
       "    <tr>\n",
       "      <th>4</th>\n",
       "      <td>170204_1810</td>\n",
       "      <td>6790</td>\n",
       "      <td>2017-02-04 18:11:01+00:00</td>\n",
       "      <td>background_stable</td>\n",
       "      <td>19671</td>\n",
       "      <td>2017-02-04 19:11:05+00:00</td>\n",
       "      <td>blinded,_sciencerun1_candidate,_sciencerun1</td>\n",
       "      <td>background_stable</td>\n",
       "      <td>0 days 01:00:04</td>\n",
       "      <td>True</td>\n",
       "      <td>True</td>\n",
       "      <td>True</td>\n",
       "      <td>True</td>\n",
       "      <td>True</td>\n",
       "    </tr>\n",
       "    <tr>\n",
       "      <th>...</th>\n",
       "      <td>...</td>\n",
       "      <td>...</td>\n",
       "      <td>...</td>\n",
       "      <td>...</td>\n",
       "      <td>...</td>\n",
       "      <td>...</td>\n",
       "      <td>...</td>\n",
       "      <td>...</td>\n",
       "      <td>...</td>\n",
       "      <td>...</td>\n",
       "      <td>...</td>\n",
       "      <td>...</td>\n",
       "      <td>...</td>\n",
       "      <td>...</td>\n",
       "    </tr>\n",
       "    <tr>\n",
       "      <th>211</th>\n",
       "      <td>181027_2044</td>\n",
       "      <td>23315</td>\n",
       "      <td>2018-10-27 20:44:21+00:00</td>\n",
       "      <td>ar37_stable</td>\n",
       "      <td>36496</td>\n",
       "      <td>2018-10-27 21:44:25+00:00</td>\n",
       "      <td>Kr83m,_sciencerun2_candidate,_sciencerun2_prel...</td>\n",
       "      <td>ar37_stable</td>\n",
       "      <td>0 days 01:00:04</td>\n",
       "      <td>True</td>\n",
       "      <td>True</td>\n",
       "      <td>True</td>\n",
       "      <td>True</td>\n",
       "      <td>True</td>\n",
       "    </tr>\n",
       "    <tr>\n",
       "      <th>212</th>\n",
       "      <td>181027_2144</td>\n",
       "      <td>23316</td>\n",
       "      <td>2018-10-27 21:44:33+00:00</td>\n",
       "      <td>ar37_stable</td>\n",
       "      <td>36330</td>\n",
       "      <td>2018-10-27 22:44:35+00:00</td>\n",
       "      <td>Kr83m,_sciencerun2_candidate,_sciencerun2_prel...</td>\n",
       "      <td>ar37_stable</td>\n",
       "      <td>0 days 01:00:02</td>\n",
       "      <td>True</td>\n",
       "      <td>True</td>\n",
       "      <td>True</td>\n",
       "      <td>True</td>\n",
       "      <td>True</td>\n",
       "    </tr>\n",
       "    <tr>\n",
       "      <th>213</th>\n",
       "      <td>181027_2244</td>\n",
       "      <td>23317</td>\n",
       "      <td>2018-10-27 22:44:43+00:00</td>\n",
       "      <td>ar37_stable</td>\n",
       "      <td>36486</td>\n",
       "      <td>2018-10-27 23:44:47+00:00</td>\n",
       "      <td>Kr83m,_sciencerun2_candidate,_sciencerun2_prel...</td>\n",
       "      <td>ar37_stable</td>\n",
       "      <td>0 days 01:00:04</td>\n",
       "      <td>True</td>\n",
       "      <td>True</td>\n",
       "      <td>True</td>\n",
       "      <td>True</td>\n",
       "      <td>True</td>\n",
       "    </tr>\n",
       "    <tr>\n",
       "      <th>214</th>\n",
       "      <td>181027_2344</td>\n",
       "      <td>23318</td>\n",
       "      <td>2018-10-27 23:44:59+00:00</td>\n",
       "      <td>ar37_stable</td>\n",
       "      <td>36777</td>\n",
       "      <td>2018-10-28 00:45:03+00:00</td>\n",
       "      <td>Kr83m,_sciencerun2_candidate,_sciencerun2_prel...</td>\n",
       "      <td>ar37_stable</td>\n",
       "      <td>0 days 01:00:04</td>\n",
       "      <td>True</td>\n",
       "      <td>True</td>\n",
       "      <td>True</td>\n",
       "      <td>True</td>\n",
       "      <td>True</td>\n",
       "    </tr>\n",
       "    <tr>\n",
       "      <th>215</th>\n",
       "      <td>181028_0045</td>\n",
       "      <td>23319</td>\n",
       "      <td>2018-10-28 00:45:11+00:00</td>\n",
       "      <td>ar37_stable</td>\n",
       "      <td>36708</td>\n",
       "      <td>2018-10-28 01:45:15+00:00</td>\n",
       "      <td>Kr83m,_sciencerun2_candidate,_sciencerun2_prel...</td>\n",
       "      <td>ar37_stable</td>\n",
       "      <td>0 days 01:00:04</td>\n",
       "      <td>True</td>\n",
       "      <td>True</td>\n",
       "      <td>True</td>\n",
       "      <td>True</td>\n",
       "      <td>True</td>\n",
       "    </tr>\n",
       "  </tbody>\n",
       "</table>\n",
       "<p>216 rows × 14 columns</p>\n",
       "</div>"
      ],
      "text/plain": [
       "            name number                     start    reader.ini.name  \\\n",
       "0    170204_1410   6786 2017-02-04 14:10:08+00:00  background_stable   \n",
       "1    170204_1510   6787 2017-02-04 15:10:28+00:00  background_stable   \n",
       "2    170204_1610   6788 2017-02-04 16:10:39+00:00  background_stable   \n",
       "3    170204_1710   6789 2017-02-04 17:10:51+00:00  background_stable   \n",
       "4    170204_1810   6790 2017-02-04 18:11:01+00:00  background_stable   \n",
       "..           ...    ...                       ...                ...   \n",
       "211  181027_2044  23315 2018-10-27 20:44:21+00:00        ar37_stable   \n",
       "212  181027_2144  23316 2018-10-27 21:44:33+00:00        ar37_stable   \n",
       "213  181027_2244  23317 2018-10-27 22:44:43+00:00        ar37_stable   \n",
       "214  181027_2344  23318 2018-10-27 23:44:59+00:00        ar37_stable   \n",
       "215  181028_0045  23319 2018-10-28 00:45:11+00:00        ar37_stable   \n",
       "\n",
       "    trigger.events_built                       end  \\\n",
       "0                  19574 2017-02-04 15:10:13+00:00   \n",
       "1                  19634 2017-02-04 16:10:32+00:00   \n",
       "2                  19400 2017-02-04 17:10:43+00:00   \n",
       "3                  19415 2017-02-04 18:10:54+00:00   \n",
       "4                  19671 2017-02-04 19:11:05+00:00   \n",
       "..                   ...                       ...   \n",
       "211                36496 2018-10-27 21:44:25+00:00   \n",
       "212                36330 2018-10-27 22:44:35+00:00   \n",
       "213                36486 2018-10-27 23:44:47+00:00   \n",
       "214                36777 2018-10-28 00:45:03+00:00   \n",
       "215                36708 2018-10-28 01:45:15+00:00   \n",
       "\n",
       "                                                  tags               mode  \\\n",
       "0          blinded,_sciencerun1_candidate,_sciencerun1  background_stable   \n",
       "1          blinded,_sciencerun1_candidate,_sciencerun1  background_stable   \n",
       "2          blinded,_sciencerun1_candidate,_sciencerun1  background_stable   \n",
       "3          blinded,_sciencerun1_candidate,_sciencerun1  background_stable   \n",
       "4          blinded,_sciencerun1_candidate,_sciencerun1  background_stable   \n",
       "..                                                 ...                ...   \n",
       "211  Kr83m,_sciencerun2_candidate,_sciencerun2_prel...        ar37_stable   \n",
       "212  Kr83m,_sciencerun2_candidate,_sciencerun2_prel...        ar37_stable   \n",
       "213  Kr83m,_sciencerun2_candidate,_sciencerun2_prel...        ar37_stable   \n",
       "214  Kr83m,_sciencerun2_candidate,_sciencerun2_prel...        ar37_stable   \n",
       "215  Kr83m,_sciencerun2_candidate,_sciencerun2_prel...        ar37_stable   \n",
       "\n",
       "           livetime  peaklets_available  raw_records_available  \\\n",
       "0   0 days 01:00:05                True                   True   \n",
       "1   0 days 01:00:04                True                   True   \n",
       "2   0 days 01:00:04                True                   True   \n",
       "3   0 days 01:00:03                True                   True   \n",
       "4   0 days 01:00:04                True                   True   \n",
       "..              ...                 ...                    ...   \n",
       "211 0 days 01:00:04                True                   True   \n",
       "212 0 days 01:00:02                True                   True   \n",
       "213 0 days 01:00:04                True                   True   \n",
       "214 0 days 01:00:04                True                   True   \n",
       "215 0 days 01:00:04                True                   True   \n",
       "\n",
       "     records_available  event_info_available  events_available  \n",
       "0                 True                  True              True  \n",
       "1                 True                  True              True  \n",
       "2                 True                  True              True  \n",
       "3                 True                  True              True  \n",
       "4                 True                  True              True  \n",
       "..                 ...                   ...               ...  \n",
       "211               True                  True              True  \n",
       "212               True                  True              True  \n",
       "213               True                  True              True  \n",
       "214               True                  True              True  \n",
       "215               True                  True              True  \n",
       "\n",
       "[216 rows x 14 columns]"
      ]
     },
     "execution_count": 20,
     "metadata": {},
     "output_type": "execute_result"
    }
   ],
   "source": [
    "st.select_runs()"
   ]
  },
  {
   "cell_type": "markdown",
   "metadata": {},
   "source": [
    "We've got a lot of different runs to choose from. For the purposes of this tutorial, I'm going to load up the run identified by '180215_1029'. We'll do this by setting it as a variable to use in functions later."
   ]
  },
  {
   "cell_type": "code",
   "execution_count": 22,
   "metadata": {},
   "outputs": [],
   "source": [
    "run_id = '180215_1029'"
   ]
  },
  {
   "cell_type": "markdown",
   "metadata": {},
   "source": [
    "To actually load data, we use the function get_df (which needs to know the run's ID number and what type of data we are looking for) to get a dataframe created with pandas, which is what we imported earlier. You can also use a different module called numpy, but we're going to use pandas for now because it's very straightforward."
   ]
  },
  {
   "cell_type": "code",
   "execution_count": 23,
   "metadata": {},
   "outputs": [
    {
     "data": {
      "application/vnd.jupyter.widget-view+json": {
       "model_id": "f26a77ffef354520b49068368f9a09d3",
       "version_major": 2,
       "version_minor": 0
      },
      "text/plain": [
       "HBox(children=(HTML(value=''), FloatProgress(value=0.0, max=1.0), HTML(value='')))"
      ]
     },
     "metadata": {},
     "output_type": "display_data"
    },
    {
     "name": "stdout",
     "output_type": "stream",
     "text": [
      "\n"
     ]
    }
   ],
   "source": [
    "df = st.get_df(run_id, 'event_info')"
   ]
  },
  {
   "cell_type": "markdown",
   "metadata": {},
   "source": [
    "If we want to look directly at the 'df' dataframe we just created with all our data in it, the function print(df) will print it out to read. However, it won't mean much to us in its current form- we'll make a data plot so we can visually analyze the data."
   ]
  },
  {
   "cell_type": "code",
   "execution_count": 25,
   "metadata": {},
   "outputs": [
    {
     "name": "stdout",
     "output_type": "stream",
     "text": [
      "             cs1            cs2     alt_cs1        alt_cs2  \\\n",
      "0    3154.413574  652438.812500    0.000000     176.090179   \n",
      "1    5758.058105  568073.625000  141.350296  337445.968750   \n",
      "2    1435.035889   82255.000000    0.000000    6068.285645   \n",
      "3    1345.859131  122233.304688    0.000000   19143.283203   \n",
      "4    2126.204346  112584.046875    0.000000  104159.750000   \n",
      "..           ...            ...         ...            ...   \n",
      "302  3229.083496  259479.937500    0.000000  134938.968750   \n",
      "303   946.592285   83970.125000    0.000000    3686.266846   \n",
      "304     0.000000  283336.406250    0.000000   16599.048828   \n",
      "305     0.000000  314465.031250    0.000000   17262.187500   \n",
      "306     0.000000  104435.242188    0.000000   59934.355469   \n",
      "\n",
      "                    time              endtime     e_light    e_charge  \\\n",
      "0    1518690592149882940  1518690592152169100  303.053741  286.338745   \n",
      "1    1518690592201439770  1518690592203722050  553.193542  249.313004   \n",
      "2    1518690592466567440  1518690592468799730  137.868103   36.099621   \n",
      "3    1518690592747771050  1518690592749798640  129.300629   53.645077   \n",
      "4    1518690593003844370  1518690593005853770  204.270691   49.410263   \n",
      "..                   ...                  ...         ...         ...   \n",
      "302  1518690653241470310  1518690653243519560  310.227539  113.879120   \n",
      "303  1518690653673177890  1518690653675198170   90.941895   36.852345   \n",
      "304  1518690653771003020  1518690653773010620    0.000000  124.349106   \n",
      "305  1518690653945905850  1518690653947911150    0.000000  138.010666   \n",
      "306  1518690654181523860  1518690654183531650    0.000000   45.833958   \n",
      "\n",
      "          e_ces  n_peaks  ...   alt_s2_y          x          y          z  \\\n",
      "0    589.392456        9  ... -31.338512  44.141254  -6.838714 -37.135551   \n",
      "1    802.506531       19  ... -21.093771 -41.987190 -18.791233 -34.336990   \n",
      "2    173.967728       66  ...   5.692088 -48.027901   1.946628 -26.670229   \n",
      "3    182.945709       10  ... -25.501574 -27.031408 -25.482199  -2.938360   \n",
      "4    253.680954        6  ...  43.027340   8.248243  42.250587  -0.578694   \n",
      "..          ...      ...  ...        ...        ...        ...        ...   \n",
      "302  424.106659       13  ...   3.209044  -2.725621   3.368405  -5.694843   \n",
      "303  127.794235       73  ... -25.290226  35.256668 -31.077385  -0.592296   \n",
      "304  124.349106        2  ... -30.274105  -7.317370 -35.816059  -0.000000   \n",
      "305  138.010666        2  ...  36.967339  -1.990916  44.183620  -0.000000   \n",
      "306   45.833958        5  ...  -1.902220 -46.492622  -1.420466  -0.000000   \n",
      "\n",
      "             r    z_naive    r_naive  r_field_distortion_correction     theta  \\\n",
      "0    44.667866 -37.247639  41.780411                       2.887458 -0.153706   \n",
      "1    46.000374 -34.498425  42.666840                       3.333534 -2.720781   \n",
      "2    48.067337 -27.682955  40.648117                       7.419219  3.101084   \n",
      "3    37.148884  -2.960282  36.789288                       0.359595 -2.385687   \n",
      "4    43.048180  -0.612683  42.846947                       0.201231  1.377999   \n",
      "..         ...        ...        ...                            ...       ...   \n",
      "302   4.333032  -5.737612   5.032286                      -0.699254  2.251105   \n",
      "303  46.998260  -0.592296  45.798485                       1.199775 -0.722478   \n",
      "304  36.555904  -0.000000  32.287609                       4.268295 -1.772327   \n",
      "305  44.228451  -0.000000  46.128132                      -1.899681  1.615826   \n",
      "306  46.514320  -0.000000  44.437801                       2.076517 -3.111050   \n",
      "\n",
      "     event_number  \n",
      "0               0  \n",
      "1               1  \n",
      "2               2  \n",
      "3               3  \n",
      "4               4  \n",
      "..            ...  \n",
      "302           305  \n",
      "303           306  \n",
      "304           307  \n",
      "305           308  \n",
      "306           309  \n",
      "\n",
      "[307 rows x 64 columns]\n"
     ]
    }
   ],
   "source": [
    "print(df)"
   ]
  },
  {
   "cell_type": "markdown",
   "metadata": {},
   "source": [
    "Any run is full of *events*. Each time a new particle comes into the detector to cause an interaction, that's a new event. We are going to take every event in the run that we selected, and plot each one on the same plot to compare them to each other.\n",
    "\n",
    "Another important module we use is matplotlib.pyplot, which is used to make plots. Because it also has an unwieldly name, we're going to rename it 'plt' instead. The plot.scatter function, which is formatted as df.plot.scatter(x-axis, y-axis) because we're using it on the dataframe represented by df, will immediately create a simple plot of every event. We're also going to use functions from matplotlib.pyplot to set log scales for the x- and y-axis, or all the data would just look like one big clump. We'll also set the x-axis to start at 1 and continue towards infinity, which will also make the plot more readable."
   ]
  },
  {
   "cell_type": "code",
   "execution_count": 35,
   "metadata": {},
   "outputs": [
    {
     "data": {
      "image/png": "[encoded data removed]",
      "text/plain": [
       "<Figure size 432x288 with 1 Axes>"
      ]
     },
     "metadata": {
      "needs_background": "light"
     },
     "output_type": "display_data"
    }
   ],
   "source": [
    "import matplotlib.pyplot as plt\n",
    "\n",
    "df.plot.scatter('cs1', 'cs2')\n",
    "plt.xscale('log')\n",
    "plt.xlim(1, None)\n",
    "plt.yscale('log')"
   ]
  },
  {
   "cell_type": "markdown",
   "metadata": {},
   "source": [
    "That definitely shows our data, but doesn't tell us much about it. However, there's actually an easier way to make a cS2/cS1 chart from a given run. Because so many analysts want to compare cS1s and cS2s, straxen has a built-in function to let you make one instantly!"
   ]
  },
  {
   "cell_type": "code",
   "execution_count": 36,
   "metadata": {},
   "outputs": [
    {
     "data": {
      "application/vnd.jupyter.widget-view+json": {
       "model_id": "e8dac382deda43578215f4c511ae0c02",
       "version_major": 2,
       "version_minor": 0
      },
      "text/plain": [
       "HBox(children=(HTML(value=''), FloatProgress(value=0.0, max=1.0), HTML(value='')))"
      ]
     },
     "metadata": {},
     "output_type": "display_data"
    },
    {
     "name": "stdout",
     "output_type": "stream",
     "text": [
      "\n"
     ]
    },
    {
     "data": {
      "image/png": "[encoded data removed]",
      "text/plain": [
       "<Figure size 504x360 with 4 Axes>"
      ]
     },
     "metadata": {
      "needs_background": "light"
     },
     "output_type": "display_data"
    }
   ],
   "source": [
    "st.event_scatter(run_id)"
   ]
  },
  {
   "cell_type": "markdown",
   "metadata": {},
   "source": [
    "In this plot, we can see that the total PMT area picking up the cS1 and S2 signals is measured in PE. The automatic plot also has axes that relate cS1 and cS2 area to the total amount of charge released in the interaction and the amount of light released in the interaction (measured in terms of electronvolts). The grey lines on the plot use these electronvolt values as benchmarks to indicate different energy ranges for how much recoil energy was introduced into the detector by the initial particle interaction; from this, we can see that mose events were on the scale of 100 keV or 1 MeV. \n",
    "\n",
    "Dots representing events are also color-coded by the value of the top of the S2/S1 fraction. Redder dots mean events with a higher ratio of S2 area to S1 area, so we know that those are more likely to be electronic recoils. "
   ]
  },
  {
   "cell_type": "code",
   "execution_count": null,
   "metadata": {},
   "outputs": [],
   "source": []
  }
 ],
 "metadata": {
  "kernelspec": {
   "display_name": "Python [conda env:strax]",
   "language": "python",
   "name": "conda-env-strax-py"
  },
  "language_info": {
   "codemirror_mode": {
    "name": "ipython",
    "version": 3
   },
   "file_extension": ".py",
   "mimetype": "text/x-python",
   "name": "python",
   "nbconvert_exporter": "python",
   "pygments_lexer": "ipython3",
   "version": "3.6.10"
  }
 },
 "nbformat": 4,
 "nbformat_minor": 4
}
